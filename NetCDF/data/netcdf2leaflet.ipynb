{
 "cells": [
  {
   "cell_type": "code",
   "execution_count": 2,
   "metadata": {
    "collapsed": true
   },
   "outputs": [],
   "source": [
    "from netCDF4 import Dataset, num2date\n",
    "import numpy as np\n",
    "import json"
   ]
  },
  {
   "cell_type": "code",
   "execution_count": 4,
   "metadata": {
    "collapsed": false
   },
   "outputs": [],
   "source": [
    "# import data\n",
    "dataset = Dataset('netcdf/echam_daily.nc')"
   ]
  },
  {
   "cell_type": "code",
   "execution_count": 5,
   "metadata": {
    "collapsed": false
   },
   "outputs": [
    {
     "name": "stdout",
     "output_type": "stream",
     "text": [
      "odict_keys(['time', 'lat', 'lon', 'mlev', 'ilev', 'spc', 'complex'])\n"
     ]
    }
   ],
   "source": [
    "# interrogate dimensions\n",
    "print(dataset.dimensions.keys())"
   ]
  },
  {
   "cell_type": "code",
   "execution_count": 6,
   "metadata": {
    "collapsed": false
   },
   "outputs": [
    {
     "name": "stdout",
     "output_type": "stream",
     "text": [
      "<class 'netCDF4._netCDF4.Variable'>\n",
      "float32 u10(time, lat, lon)\n",
      "    long_name: 10m u-velocity\n",
      "    units: m/s\n",
      "    code: 165\n",
      "    table: 128\n",
      "    grid_type: gaussian\n",
      "unlimited dimensions: time\n",
      "current shape = (8, 96, 192)\n",
      "filling on, default _FillValue of 9.969209968386869e+36 used\n",
      "\n"
     ]
    }
   ],
   "source": [
    "# interrogate variable structure\n",
    "print(dataset.variables['u10'])"
   ]
  },
  {
   "cell_type": "code",
   "execution_count": 13,
   "metadata": {
    "collapsed": false,
    "scrolled": true
   },
   "outputs": [
    {
     "name": "stdout",
     "output_type": "stream",
     "text": [
      "Check variables:\n",
      "odict_keys(['abso4', 'aclcac', 'aclcov', 'ahfcon', 'ahfice', 'ahfl', 'ahfliac', 'ahfllac', 'ahflwac', 'ahfres', 'ahfs', 'ahfsiac', 'ahfslac', 'ahfswac', 'albedo', 'albedo_nir', 'albedo_nir_dif', 'albedo_nir_dir', 'albedo_vis', 'albedo_vis_dif', 'albedo_vis_dir', 'alsobs', 'alsoi', 'alsol', 'alsom', 'alsow', 'ameltdepth', 'ameltfrac', 'amlcorac', 'ao3', 'apmeb', 'apmegl', 'aprc', 'aprl', 'aprs', 'aps', 'az0i', 'az0l', 'az0w', 'barefrac', 'dew2', 'drain', 'evap', 'evapiac', 'evaplac', 'evapwac', 'fage', 'friac', 'geosp', 'glac', 'gld', 'hyai', 'hyam', 'hybi', 'hybm', 'ilev', 'lat', 'lon', 'lsp', 'mlev', 'q', 'qres', 'qvi', 'relhum', 'runoff', 'sd', 'seaice', 'siced', 'sicepdi', 'sicepdw', 'sicepres', 'slm', 'sn', 'snacl', 'snc', 'sni', 'snifrac', 'snmel', 'sofliac', 'sofllac', 'soflwac', 'srad0', 'srad0d', 'srad0u', 'sradl', 'srads', 'sradsu', 'sraf0', 'srafl', 'srafs', 'st', 'svo', 't2max', 't2min', 'temp2', 'thvsig', 'time', 'topmax', 'tpot', 'trad0', 'tradl', 'trads', 'tradsu', 'traf0', 'trafl', 'trafs', 'trfliac', 'trfllac', 'trflwac', 'tropo', 'tsi', 'tsicepdi', 'tslm1', 'tsurf', 'tsw', 'u10', 'ustr', 'ustri', 'ustrl', 'ustrw', 'v10', 'vdis', 'vdisgw', 'vstr', 'vstri', 'vstrl', 'vstrw', 'wimax', 'wind10', 'wl', 'ws', 'wsmx', 'xi', 'xivi', 'xl', 'xlvi'])\n"
     ]
    }
   ],
   "source": [
    "# interrogate variables\n",
    "# find the u and v wind data\n",
    "print(\"Check variables:\")\n",
    "print(dataset.variables.keys())"
   ]
  },
  {
   "cell_type": "code",
   "execution_count": 14,
   "metadata": {
    "collapsed": true
   },
   "outputs": [],
   "source": [
    "# USER input names for u and v wind variables\n",
    "u_var = 'u10'\n",
    "v_var = 'v10'\n",
    "temp_var = 'tsurf'"
   ]
  },
  {
   "cell_type": "code",
   "execution_count": 15,
   "metadata": {
    "collapsed": false
   },
   "outputs": [
    {
     "name": "stdout",
     "output_type": "stream",
     "text": [
      "Check units:\n",
      "m/s\n",
      "K\n"
     ]
    }
   ],
   "source": [
    "print(\"Check units:\")\n",
    "print(dataset.variables[u_var].units)\n",
    "print(dataset.variables[temp_var].units)"
   ]
  },
  {
   "cell_type": "code",
   "execution_count": 18,
   "metadata": {
    "collapsed": false
   },
   "outputs": [
    {
     "name": "stdout",
     "output_type": "stream",
     "text": [
      "Check dimensions:\n",
      "('time', 'lat', 'lon') (8, 96, 192)\n",
      "('time', 'lat', 'lon') (8, 96, 192)\n"
     ]
    }
   ],
   "source": [
    "print(\"Check dimensions:\")\n",
    "print(dataset.variables[u_var].dimensions, dataset.variables[u_var].shape)\n",
    "print(dataset.variables[u_var].dimensions, dataset.variables[temp_var].shape)"
   ]
  },
  {
   "cell_type": "code",
   "execution_count": 19,
   "metadata": {
    "collapsed": true
   },
   "outputs": [],
   "source": [
    "# set header variables for wind\n",
    "nx = dataset.variables[u_var].shape[1]\n",
    "ny = dataset.variables[u_var].shape[2]\n",
    "dx = 360 / nx\n",
    "dy = 180 / ny\n",
    "tot = nx * ny"
   ]
  },
  {
   "cell_type": "code",
   "execution_count": 20,
   "metadata": {
    "collapsed": false
   },
   "outputs": [],
   "source": [
    "# get data for u wind\n",
    "a = dataset.variables[u_var][:][0]\n",
    "A = np.matrix(a)\n",
    "b = A.flatten()\n",
    "c = np.ravel(b).T\n",
    "u_data = c.tolist()"
   ]
  },
  {
   "cell_type": "code",
   "execution_count": 21,
   "metadata": {
    "collapsed": true
   },
   "outputs": [],
   "source": [
    "# get data for v wind\n",
    "a = dataset.variables[v_var][:][0]\n",
    "A = np.matrix(a)\n",
    "b = A.flatten()\n",
    "c = np.ravel(b).T\n",
    "v_data = c.tolist()"
   ]
  },
  {
   "cell_type": "code",
   "execution_count": 24,
   "metadata": {
    "collapsed": true
   },
   "outputs": [],
   "source": [
    "# format JSON\n",
    "wind_data = [{\n",
    "  \"header\": {\n",
    "    \"parameterNumberName\": \"eastward_wind\",\n",
    "    \"parameterUnit\": \"m.s-1\",\n",
    "    \"parameterNumber\": 2,\n",
    "    \"parameterCategory\": 2,\n",
    "    \"nx\": nx,\n",
    "    \"ny\": ny,\n",
    "    \"numberPoints\": tot,\n",
    "    \"dx\": dx,\n",
    "    \"dy\": dy,\n",
    "    \"la1\": 90.0,\n",
    "    \"lo1\": 0.0,\n",
    "    \"la2\": -90.0,\n",
    "    \"lo2\": 360.0,\n",
    "    \"refTime\": \"2017-02-01 23:00:00\"\n",
    "  },\n",
    "  \"data\": u_data\n",
    "}, {\n",
    "  \"header\": {\n",
    "    \"parameterNumberName\": \"northward_wind\",\n",
    "    \"parameterUnit\": \"m.s-1\",\n",
    "    \"parameterNumber\": 3,\n",
    "    \"parameterCategory\": 2,\n",
    "    \"nx\": nx,\n",
    "    \"ny\": ny,\n",
    "    \"numberPoints\": tot,\n",
    "    \"dx\": dx,\n",
    "    \"dy\": dy,\n",
    "    \"la1\": 90.0,\n",
    "    \"lo1\": 0.0,\n",
    "    \"la2\": -90.0,\n",
    "    \"lo2\": 360.0,\n",
    "    \"refTime\": \"2017-02-01 23:00:00\"\n",
    "  },\n",
    "  \"data\": v_data\n",
    "}]"
   ]
  },
  {
   "cell_type": "code",
   "execution_count": 25,
   "metadata": {
    "collapsed": true
   },
   "outputs": [],
   "source": [
    "# write JSON for leaflet-velocity input\n",
    "with open('wind.json', 'w') as outfile:  \n",
    "    json.dump(wind_data, outfile, separators=(',', ':'))"
   ]
  },
  {
   "cell_type": "code",
   "execution_count": 26,
   "metadata": {
    "collapsed": false
   },
   "outputs": [],
   "source": [
    "# get data for temp from netCDF\n",
    "temps = dataset.variables[temp_var][:][0]"
   ]
  },
  {
   "cell_type": "code",
   "execution_count": 28,
   "metadata": {
    "collapsed": false
   },
   "outputs": [],
   "source": [
    "# get data for lat and lon\n",
    "lats = dataset.variables['lat'][:]\n",
    "lons = dataset.variables['lon'][:]"
   ]
  },
  {
   "cell_type": "code",
   "execution_count": 29,
   "metadata": {
    "collapsed": false,
    "scrolled": false
   },
   "outputs": [],
   "source": [
    "# loop through and create array\n",
    "# temp is scaled from Kelvin to 0-1 with range 200K to 350K\n",
    "# USER can edit display options\n",
    "temp_data = [[0,0,0] for i in range(len(lats) * len(lons))]\n",
    "for i in range(len(lats)):\n",
    "    for j in range(len(lons)):\n",
    "        temp_data[j + (i * len(lons))][0] = lats[i]\n",
    "        temp_data[j + (i * len(lons))][1] = lons[j]\n",
    "        temp_data[j + (i * len(lons))][2] = (temps[i,j] - 273.15) # + 273.15 for K\n",
    "        #temp_data[j + (i * len(lons))][2] = str((temps[i,j] - 200)/150) if string is necessary"
   ]
  },
  {
   "cell_type": "code",
   "execution_count": 32,
   "metadata": {
    "collapsed": false
   },
   "outputs": [],
   "source": [
    "# apply non-overlapping moving window average to reduce data size by factor of 144 \n",
    "# USER can edit grouping parameter\n",
    "# number of points should not be more than several hundred for best performance\n",
    "group = 12\n",
    "lats_sm = lats.reshape(-1, group).mean(axis=1)\n",
    "lons_sm = lons.reshape(-1, group).mean(axis=1)"
   ]
  },
  {
   "cell_type": "code",
   "execution_count": 33,
   "metadata": {
    "collapsed": false
   },
   "outputs": [],
   "source": [
    "# create new smaller temperature array \n",
    "temp_array = [[0] for i in range(len(lats) * len(lons))]\n",
    "for i in range(len(temp_data)):\n",
    "    temp_array[i] = temp_data[i][2]\n",
    "temps_sm = np.array(temp_array).reshape(-1, group * group).mean(axis=1)"
   ]
  },
  {
   "cell_type": "code",
   "execution_count": 35,
   "metadata": {
    "collapsed": false
   },
   "outputs": [],
   "source": [
    "# reformat array to [lat, lon, temp]\n",
    "temp_data_sm = [[0,0,0] for i in range(len(lats_sm) * len(lons_sm))]\n",
    "for i in range(len(lats_sm)):\n",
    "    for j in range(len(lons_sm)):\n",
    "        temp_data_sm[j + (i * len(lons_sm))][0] = lats_sm[i]\n",
    "        temp_data_sm[j + (i * len(lons_sm))][1] = lons_sm[j] -180\n",
    "        temp_data_sm[j + (i * len(lons_sm))][2] = temps_sm[j + (i * len(lons_sm))] + 40"
   ]
  },
  {
   "cell_type": "code",
   "execution_count": 36,
   "metadata": {
    "collapsed": false
   },
   "outputs": [],
   "source": [
    "# write Javascript file for Leaflet.idw input\n",
    "with open('temps_sm.js', 'w') as filehandle:  \n",
    "    filehandle.write('var addressPoints = ' + str(temp_data_sm))"
   ]
  }
 ],
 "metadata": {
  "kernelspec": {
   "display_name": "Python 3",
   "language": "python",
   "name": "python3"
  },
  "language_info": {
   "codemirror_mode": {
    "name": "ipython",
    "version": 3
   },
   "file_extension": ".py",
   "mimetype": "text/x-python",
   "name": "python",
   "nbconvert_exporter": "python",
   "pygments_lexer": "ipython3",
   "version": "3.6.0"
  }
 },
 "nbformat": 4,
 "nbformat_minor": 2
}
